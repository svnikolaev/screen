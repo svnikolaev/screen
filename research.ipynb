{
    "cells": [
        {
            "cell_type": "code",
            "execution_count": 16,
            "source": [
                "class MyPoint():\r\n",
                "    \"\"\"Этот класс не нужен, потому,что он\r\n",
                "    полностью будет переписан в Vec2d\r\n",
                "    \"\"\"\r\n",
                "    def __init__(self, x, y):\r\n",
                "        self.x, self.y = x, y\r\n",
                "    \r\n",
                "    def __repr__(self):\r\n",
                "        return (f\"Point(x: {self.x}, y: {self.y})\")\r\n",
                "\r\n",
                "    def __add__(self, other):\r\n",
                "        return MyPoint(\r\n",
                "            self.x + other.x, self.y + other.y,\r\n",
                "        )"
            ],
            "outputs": [],
            "metadata": {}
        },
        {
            "cell_type": "code",
            "execution_count": 30,
            "source": [
                "# class Vec2d(MyPoint):\r\n",
                "class Vec2d():\r\n",
                "    def __init__(self, x, y, speed_x=0, speed_y=0):\r\n",
                "        self.x, self.y = x, y\r\n",
                "        self.speed_x, self.speed_y = speed_x, speed_y\r\n",
                "    \r\n",
                "    def __repr__(self):\r\n",
                "        return (\r\n",
                "            \"Vector(\"\r\n",
                "            f\"x: {self.x}, y: {self.y}\"\r\n",
                "            f\", speed_x: {self.speed_x}, speed_y: {self.speed_y}\"\r\n",
                "            \")\"\r\n",
                "        )\r\n",
                "\r\n",
                "    def len(self):\r\n",
                "        a = self.get_A()\r\n",
                "        b = self.get_B()\r\n",
                "        ab = float(((b[0] - a[0])**2 + (b[1] - a[1])**2) ** 0.5)\r\n",
                "        return ab\r\n",
                "\r\n",
                "    def __add__(self, other):\r\n",
                "        return Vec2d(\r\n",
                "            self.x + other.x, self.y + other.y,\r\n",
                "            self.speed_x + other.speed_x, self.speed_y + other.speed_y\r\n",
                "        )\r\n",
                "    \r\n",
                "    def get_A(self):\r\n",
                "        return self.x, self.y\r\n",
                "\r\n",
                "    def get_B(self):\r\n",
                "        return self.x + self.speed_x, self.y + self.speed_y"
            ],
            "outputs": [],
            "metadata": {}
        },
        {
            "cell_type": "code",
            "execution_count": 31,
            "source": [
                "vec = Vec2d(1, 2, 3, 4)\r\n",
                "print('vec', vec)\r\n",
                "vec3 = vec + vec + vec\r\n",
                "print('vec3', vec3)"
            ],
            "outputs": [
                {
                    "output_type": "stream",
                    "name": "stdout",
                    "text": [
                        "vec Vector(x: 1, y: 2, speed_x: 3, speed_y: 4)\n",
                        "vec3 Vector(x: 3, y: 6, speed_x: 9, speed_y: 12)\n"
                    ]
                }
            ],
            "metadata": {}
        },
        {
            "cell_type": "markdown",
            "source": [],
            "metadata": {}
        },
        {
            "cell_type": "code",
            "execution_count": 32,
            "source": [
                "vec3.len()"
            ],
            "outputs": [
                {
                    "output_type": "execute_result",
                    "data": {
                        "text/plain": [
                            "15.0"
                        ]
                    },
                    "metadata": {},
                    "execution_count": 32
                }
            ],
            "metadata": {}
        },
        {
            "cell_type": "code",
            "execution_count": 34,
            "source": [
                "def get_A():\r\n",
                "    return (\r\n",
                "        1,\r\n",
                "        2\r\n",
                "    )"
            ],
            "outputs": [],
            "metadata": {}
        },
        {
            "cell_type": "code",
            "execution_count": 35,
            "source": [
                "get_A()"
            ],
            "outputs": [
                {
                    "output_type": "execute_result",
                    "data": {
                        "text/plain": [
                            "(1, 2)"
                        ]
                    },
                    "metadata": {},
                    "execution_count": 35
                }
            ],
            "metadata": {}
        },
        {
            "cell_type": "code",
            "execution_count": 40,
            "source": [
                "test = 17 ** 2\r\n",
                "print(test)"
            ],
            "outputs": [
                {
                    "output_type": "stream",
                    "name": "stdout",
                    "text": [
                        "289\n"
                    ]
                }
            ],
            "metadata": {}
        },
        {
            "cell_type": "code",
            "execution_count": 41,
            "source": [
                "test ** 0.5"
            ],
            "outputs": [
                {
                    "output_type": "execute_result",
                    "data": {
                        "text/plain": [
                            "17.0"
                        ]
                    },
                    "metadata": {},
                    "execution_count": 41
                }
            ],
            "metadata": {}
        },
        {
            "cell_type": "code",
            "execution_count": null,
            "source": [],
            "outputs": [],
            "metadata": {}
        }
    ],
    "metadata": {
        "orig_nbformat": 4,
        "language_info": {
            "name": "python",
            "version": "3.9.4",
            "mimetype": "text/x-python",
            "codemirror_mode": {
                "name": "ipython",
                "version": 3
            },
            "pygments_lexer": "ipython3",
            "nbconvert_exporter": "python",
            "file_extension": ".py"
        },
        "kernelspec": {
            "name": "python3",
            "display_name": "Python 3.9.4 64-bit ('env': venv)"
        },
        "interpreter": {
            "hash": "7f49600bf0e0338224f456f307a3e477386c22a152558da20a4200b21c8d378d"
        }
    },
    "nbformat": 4,
    "nbformat_minor": 2
}